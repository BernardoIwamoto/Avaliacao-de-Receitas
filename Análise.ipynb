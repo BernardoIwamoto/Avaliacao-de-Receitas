{
 "cells": [
  {
   "cell_type": "markdown",
   "id": "cc51bda3",
   "metadata": {},
   "source": [
    "LIMPAR DADOS -> TRANSFORMAR DE FORMATO R PARA JSON"
   ]
  },
  {
   "cell_type": "code",
   "execution_count": null,
   "id": "5864c43b",
   "metadata": {},
   "outputs": [],
   "source": [
    "import pandas as pd\n",
    "import ast\n",
    "import re\n",
    "import json\n",
    "import sqlite3\n",
    "\n",
    "df = pd.read_csv(\"archive/recipes.csv\")\n",
    "\n",
    "## Função de limpeza de dados obtidade via inteligência artificial\n",
    "\n",
    "# Função genérica para limpar campos do tipo c(\"...\", \"...\")\n",
    "def parse_r_style_list(s):\n",
    "    if pd.isna(s):\n",
    "        return []\n",
    "    \n",
    "    try:\n",
    "        result = ast.literal_eval(s)\n",
    "        if isinstance(result, list):\n",
    "            return result\n",
    "    except:\n",
    "        pass\n",
    "\n",
    "    # Trata strings no estilo R: c(\"...\", \"...\")\n",
    "    s = re.sub(r'^c\\(|\\)$', '', s)\n",
    "    return re.findall(r'\"(.*?)\"', s)\n",
    "\n",
    "cols_to_clean = [\n",
    "    \"RecipeIngredientParts\",\n",
    "    \"RecipeIngredientQuantities\",\n",
    "    \"RecipeInstructions\",\n",
    "    \"Keywords\",\n",
    "    \"Images\"\n",
    "]\n",
    "\n",
    "# Aplicar a limpeza e converter para JSON\n",
    "for col in cols_to_clean:\n",
    "    df[col] = df[col].apply(parse_r_style_list)\n",
    "    df[col] = df[col].apply(json.dumps)\n",
    "    \n",
    "reviews = pd.read_csv(\"archive/reviews.csv\")\n",
    "\n",
    "conn = sqlite3.connect(\"database.db\")\n",
    "\n",
    "df.to_sql(\"recipes\", conn, if_exists=\"replace\", index=False)\n",
    "reviews.to_sql(\"reviews\", conn, if_exists=\"replace\", index=False)\n",
    "\n",
    "conn.close()\n",
    "\n"
   ]
  },
  {
   "cell_type": "markdown",
   "id": "968a6ad6",
   "metadata": {},
   "source": [
    "ANÁLISE INICIAL DE DISTRIBUIÇÃO DE MACRONUTRIETES E ETC"
   ]
  },
  {
   "cell_type": "code",
   "execution_count": 4,
   "id": "7a7fdbb4",
   "metadata": {},
   "outputs": [
    {
     "data": {
      "image/png": "[encoded data removed]",
      "text/plain": [
       "<Figure size 640x480 with 1 Axes>"
      ]
     },
     "metadata": {},
     "output_type": "display_data"
    }
   ],
   "source": [
    "import matplotlib.pyplot as plt\n",
    "\n",
    "df[\"Calories\"].dropna().astype(float).hist(bins=30)\n",
    "plt.title(\"Distribuição de calorias\")\n",
    "plt.xlabel(\"Calorias\")\n",
    "plt.ylabel(\"Frequência\")\n",
    "plt.show()\n"
   ]
  },
  {
   "cell_type": "markdown",
   "id": "aefc8f6d",
   "metadata": {},
   "source": [
    "RECOMENDADOR DE RECEITAS BASEADO EM INGREDIENTES"
   ]
  },
  {
   "cell_type": "code",
   "execution_count": null,
   "id": "17f85a08",
   "metadata": {},
   "outputs": [],
   "source": [
    "from sklearn.feature_extraction.text import TfidfVectorizer\n",
    "from sklearn.metrics.pairwise import cosine_similarity\n",
    "\n",
    "import json\n",
    "\n",
    "df = pd.read_csv(\"archive/recipes_clean.csv\")\n",
    "df[\"RecipeIngredientParts_str\"] = df[\"RecipeIngredientParts\"].apply(lambda x: \" \".join(json.loads(x)))\n",
    "\n",
    "tfidf = TfidfVectorizer()\n",
    "X = tfidf.fit_transform(df[\"RecipeIngredientParts_str\"])\n",
    "\n",
    "def recomendar_receitas(ingredientes, top_n=5):\n",
    "    entrada = \" \".join(ingredientes.split(\",\"))\n",
    "    entrada_tfidf = tfidf.transform([entrada])\n",
    "    sim = cosine_similarity(entrada_tfidf, X)[0]\n",
    "    top = sim.argsort()[-top_n:][::-1]\n",
    "    return df.iloc[top][[\"Name\", \"RecipeIngredientParts\"]]\n",
    "\n",
    "recomendar_receitas(\"tomato, garlic, onion\")\n"
   ]
  }
 ],
 "metadata": {
  "kernelspec": {
   "display_name": "Python 3",
   "language": "python",
   "name": "python3"
  },
  "language_info": {
   "codemirror_mode": {
    "name": "ipython",
    "version": 3
   },
   "file_extension": ".py",
   "mimetype": "text/x-python",
   "name": "python",
   "nbconvert_exporter": "python",
   "pygments_lexer": "ipython3",
   "version": "3.11.7"
  }
 },
 "nbformat": 4,
 "nbformat_minor": 5
}
